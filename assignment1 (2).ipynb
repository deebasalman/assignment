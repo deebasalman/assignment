{
 "cells": [
  {
   "cell_type": "code",
   "execution_count": null,
   "id": "c9b43d9f-353c-4f21-b925-ae03c4b111a3",
   "metadata": {},
   "outputs": [],
   "source": [
    "1. In the below elements which of them are values or an expression? eg:- values can be\n",
    "integer or string and expressions will be mathematical operators.\n",
    "*\n",
    "hello\n",
    "-87.8\n",
    "-\n",
    "/\n",
    "+\n",
    "6"
   ]
  },
  {
   "cell_type": "code",
   "execution_count": null,
   "id": "723f4772-61ca-4145-838d-b3ff17aa6863",
   "metadata": {},
   "outputs": [],
   "source": [
    "values are-\n",
    "hello\n",
    "-87.8\n",
    "6\n",
    "expression are-\n",
    "*\n",
    "-\n",
    "/\n",
    "+"
   ]
  },
  {
   "cell_type": "code",
   "execution_count": null,
   "id": "8eadfb90-3e8b-46eb-80fe-89d45f2d6147",
   "metadata": {},
   "outputs": [],
   "source": [
    "2. What is the difference between string and variable?"
   ]
  },
  {
   "cell_type": "code",
   "execution_count": null,
   "id": "9866bf2f-8ead-424f-bc94-9dcdee86dc6f",
   "metadata": {},
   "outputs": [],
   "source": [
    "String is a value that can be of any type in inverted commas eg :- integer,float,alphanumaric,string.\n",
    "variable contain a value that can be of any type integer,float,string etc."
   ]
  },
  {
   "cell_type": "code",
   "execution_count": null,
   "id": "ba1ee865-3656-4799-be28-74b9ce24bd2d",
   "metadata": {},
   "outputs": [],
   "source": [
    "3. Describe three different data types."
   ]
  },
  {
   "cell_type": "code",
   "execution_count": null,
   "id": "2130731b-e426-40d5-9d54-0dd3ec99c881",
   "metadata": {},
   "outputs": [],
   "source": [
    "1.int-its contain integer values;\n",
    "2.str-it contain string values;\n",
    "3.float-its contain the decimal or floating values.\n"
   ]
  },
  {
   "cell_type": "code",
   "execution_count": null,
   "id": "fbbc83a3-9519-4586-9566-dd2c98a89004",
   "metadata": {},
   "outputs": [],
   "source": [
    "4. What is an expression made up of? What do all expressions do?"
   ]
  },
  {
   "cell_type": "code",
   "execution_count": null,
   "id": "8af92f98-af41-4f6a-96d8-1a2be674cda7",
   "metadata": {},
   "outputs": [],
   "source": [
    "An expression is made up of value or variable on which certain oeration is performed.\n",
    "eg- c=a+b (where a an b hold some value)"
   ]
  },
  {
   "cell_type": "code",
   "execution_count": null,
   "id": "3ff5a7e9-c4dd-4393-b007-965ab7ccac8d",
   "metadata": {},
   "outputs": [],
   "source": [
    "5. This assignment statements, like spam = 10. What is the difference between an\n",
    "expression and a statement?"
   ]
  },
  {
   "cell_type": "code",
   "execution_count": null,
   "id": "fe15f554-acf0-41da-8335-27240f3cbc5d",
   "metadata": {},
   "outputs": [],
   "source": [
    "spam=10 is a statement in which spam is assign with the value of 10.\n",
    "expression means to perform some operation on it."
   ]
  },
  {
   "cell_type": "code",
   "execution_count": null,
   "id": "36eacdfa-dc37-4892-85e4-e5f911069f8b",
   "metadata": {},
   "outputs": [],
   "source": [
    "6. After running the following code, what does the variable bacon contain?\n",
    "bacon = 22\n",
    "bacon + 1"
   ]
  },
  {
   "cell_type": "code",
   "execution_count": null,
   "id": "9483d3e7-181a-4e93-aee3-396a704f164a",
   "metadata": {},
   "outputs": [],
   "source": [
    "bacon contain 22"
   ]
  },
  {
   "cell_type": "code",
   "execution_count": null,
   "id": "98e04dbc-7445-4f9e-b8a4-d83d4a1d804e",
   "metadata": {},
   "outputs": [],
   "source": [
    "7. What should the values of the following two terms be?\n",
    "spam + spamspam\n",
    "spam * 3"
   ]
  },
  {
   "cell_type": "code",
   "execution_count": null,
   "id": "01b3e512-6b76-4a9e-8dd8-26457ae85216",
   "metadata": {},
   "outputs": [],
   "source": [
    "same output of both\n",
    "spamspamspam\n",
    "spamspamspam"
   ]
  },
  {
   "cell_type": "code",
   "execution_count": null,
   "id": "e0e94b95-be60-428b-a094-8b014499445c",
   "metadata": {},
   "outputs": [],
   "source": [
    "8. Why is eggs a valid variable name while 100 is invalid?"
   ]
  },
  {
   "cell_type": "code",
   "execution_count": null,
   "id": "0d899004-619f-4137-8a8b-f72fcd64178e",
   "metadata": {},
   "outputs": [],
   "source": [
    "egg is valid because variable name is start with alphabet amd 100 is invalid because variable name never start with number."
   ]
  },
  {
   "cell_type": "code",
   "execution_count": null,
   "id": "9701bf9a-94fc-402b-97f1-2e570d82fddd",
   "metadata": {},
   "outputs": [],
   "source": [
    "9. What three functions can be used to get the integer, floating-point number, or string\n",
    "version of a value?"
   ]
  },
  {
   "cell_type": "code",
   "execution_count": null,
   "id": "44aa0c0d-34fa-42ed-85cc-14482fdc2cad",
   "metadata": {},
   "outputs": [],
   "source": [
    "for integer we use int\n",
    "for floating number we use float\n",
    "for string we use str "
   ]
  },
  {
   "cell_type": "code",
   "execution_count": null,
   "id": "5e5e155e-a053-4d8b-aed6-66d20123fce4",
   "metadata": {},
   "outputs": [],
   "source": [
    "10. Why does this expression cause an error? How can you fix it?\n",
    "'I have eaten' + 99 + 'burritos'"
   ]
  },
  {
   "cell_type": "code",
   "execution_count": null,
   "id": "b4678258-cb32-4c95-a67b-f016fc57311a",
   "metadata": {},
   "outputs": [],
   "source": [
    "In above expression 99 is a int value and expression contain the str value.\n",
    "write state is -\n",
    "'I have eaten'+'99'+'burritos'"
   ]
  },
  {
   "cell_type": "code",
   "execution_count": null,
   "id": "3b15c0ba-71a2-4e53-a36f-a356661c45cf",
   "metadata": {},
   "outputs": [],
   "source": []
  },
  {
   "cell_type": "code",
   "execution_count": null,
   "id": "17c90094-6c47-41ea-903e-54930205dc2e",
   "metadata": {},
   "outputs": [],
   "source": []
  },
  {
   "cell_type": "code",
   "execution_count": null,
   "id": "783e77a2-7107-4c96-a7d8-e36ef4ecb50e",
   "metadata": {},
   "outputs": [],
   "source": []
  },
  {
   "cell_type": "code",
   "execution_count": null,
   "id": "0e999213-20e4-4636-b20e-8c32ad75e454",
   "metadata": {},
   "outputs": [],
   "source": []
  }
 ],
 "metadata": {
  "kernelspec": {
   "display_name": "Python 3 (ipykernel)",
   "language": "python",
   "name": "python3"
  },
  "language_info": {
   "codemirror_mode": {
    "name": "ipython",
    "version": 3
   },
   "file_extension": ".py",
   "mimetype": "text/x-python",
   "name": "python",
   "nbconvert_exporter": "python",
   "pygments_lexer": "ipython3",
   "version": "3.10.6"
  }
 },
 "nbformat": 4,
 "nbformat_minor": 5
}
